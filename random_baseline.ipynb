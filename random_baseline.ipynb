{
 "cells": [
  {
   "cell_type": "markdown",
   "metadata": {},
   "source": [
    "## random baseline"
   ]
  },
  {
   "cell_type": "code",
   "execution_count": 1,
   "metadata": {},
   "outputs": [],
   "source": [
    "import numpy as np\n",
    "import pandas as pd"
   ]
  },
  {
   "cell_type": "code",
   "execution_count": 2,
   "metadata": {},
   "outputs": [
    {
     "output_type": "execute_result",
     "data": {
      "text/plain": "(7254, 27)"
     },
     "metadata": {},
     "execution_count": 2
    }
   ],
   "source": [
    "data=pd.read_csv(\"E:/Semester 6/IE 406 - 4.0 - Machine Learning/Project/codes/train.csv\")\n",
    "data.shape"
   ]
  },
  {
   "cell_type": "code",
   "execution_count": 3,
   "metadata": {},
   "outputs": [
    {
     "output_type": "execute_result",
     "data": {
      "text/plain": "(7254, 25)"
     },
     "metadata": {},
     "execution_count": 3
    }
   ],
   "source": [
    "y=data.drop(['Id','Genre'],axis=1)\n",
    "y=y.values\n",
    "y.shape"
   ]
  },
  {
   "cell_type": "code",
   "execution_count": 4,
   "metadata": {},
   "outputs": [
    {
     "output_type": "stream",
     "name": "stdout",
     "text": "1895\nAccuracy = 26.127119812491383 %\n"
    }
   ],
   "source": [
    "c=0\n",
    "\n",
    "for i in range(data.shape[0]-1):\n",
    "    correct = np.where(y[i] == 1)[0]\n",
    "    k=np.random.randint(0,24,3)\n",
    "    flag=1\n",
    "\n",
    "    for j in k:\n",
    "        if j in correct:\n",
    "            if flag==1:\n",
    "                c += 1\n",
    "                flag=0\n",
    "    \n",
    "print(c)\n",
    "acc = c/(data.shape[0]-1)\n",
    "print(\"Accuracy =\", acc*100, \"%\")"
   ]
  }
 ],
 "metadata": {
  "kernelspec": {
   "display_name": "Python 3.8.3 64-bit",
   "language": "python",
   "name": "python38364bita484497671ff47bbaa9dedd6d6cd5f4d"
  },
  "language_info": {
   "codemirror_mode": {
    "name": "ipython",
    "version": 3
   },
   "file_extension": ".py",
   "mimetype": "text/x-python",
   "name": "python",
   "nbconvert_exporter": "python",
   "pygments_lexer": "ipython3",
   "version": "3.8.3-final"
  }
 },
 "nbformat": 4,
 "nbformat_minor": 2
}